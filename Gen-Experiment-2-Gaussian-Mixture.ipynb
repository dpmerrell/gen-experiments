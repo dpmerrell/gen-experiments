{
 "cells": [
  {
   "cell_type": "markdown",
   "metadata": {},
   "source": [
    "# `Gen` Experiments\n",
    "# II. Gaussian Mixture Model\n",
    "\n",
    "(c) David Merrell"
   ]
  },
  {
   "cell_type": "code",
   "execution_count": 1,
   "metadata": {},
   "outputs": [],
   "source": [
    "using Gen\n",
    "using PyPlot"
   ]
  },
  {
   "cell_type": "markdown",
   "metadata": {},
   "source": [
    "## Model\n",
    "\n",
    "In this notebook we'll build a Gaussian mixture model, condition it on some (simulated) data, and infer the posterior distribution of the cluster centers.\n",
    "\n",
    "We'll assume the number of components (clusters) is known.\n",
    "Note: If we didn't know the number of clusters, then we could use some other model -- e.g., Dirichlet Process clustering. I have another notebook for that.\n",
    "\n",
    "For simplicity's sake, we'll assume the clusters all have equal probability.\n",
    "(Otherwise we would use a Dirichlet prior to model the differing cluster probabilities)."
   ]
  },
  {
   "cell_type": "code",
   "execution_count": 2,
   "metadata": {},
   "outputs": [],
   "source": [
    "@gen function gauss_mix(n_clusters::Int64, n_samples::Int64)\n",
    "    \n",
    "    cluster_means = [@trace(normal(0.0, 10.0), :means => i) for i=1:n_clusters]\n",
    "    cluster_spreads = [@trace(gamma(2.0, 1.0), :spreads => i) for i=1:n_clusters]\n",
    "    cluster_probs = fill(1.0/n_clusters, n_clusters)\n",
    "    \n",
    "    z = zeros(n_samples, 1)\n",
    "    \n",
    "    for j=1:n_samples\n",
    "        c = @trace(categorical(cluster_probs), :cluster => j)\n",
    "        z[j] = @trace(normal(cluster_means[c], cluster_spreads[c]), :z => j)\n",
    "    end\n",
    "    \n",
    "    return z\n",
    "\n",
    "end;"
   ]
  },
  {
   "cell_type": "markdown",
   "metadata": {},
   "source": [
    "## Sanity check: simulate & visualize"
   ]
  },
  {
   "cell_type": "code",
   "execution_count": 3,
   "metadata": {},
   "outputs": [],
   "source": [
    "n_data = 1000\n",
    "n_clusters = 4\n",
    "    \n",
    "tr = simulate(gauss_mix, (n_clusters, n_data))\n",
    "dataset = [tr[:z => j] for j=1:n_data];"
   ]
  },
  {
   "cell_type": "code",
   "execution_count": 4,
   "metadata": {},
   "outputs": [],
   "source": [
    "function plot_choices(zs, means, assignments)\n",
    "    \n",
    "    z_vecs = [zs[assignments .== i] for i=1:length(unique(assignments))]\n",
    "    hist(z_vecs, Int(round(sqrt(n_data))), histtype=\"barstacked\", normed=true)\n",
    "\n",
    "    for (i, mean) in enumerate(means)\n",
    "        plot([mean; mean], [0; n_data], color=\"k\")\n",
    "    end\n",
    "    \n",
    "end;\n",
    "\n",
    "\n",
    "function plot_trace(tr)\n",
    "    \n",
    "    zs = [tr[:z => j] for j=1:n_data];\n",
    "    means = [tr[:means => i] for i=1:n_clusters];\n",
    "    assignments = [tr[:cluster => j] for j=1:n_data]\n",
    "    \n",
    "    plot_choices(zs, means, assignments)\n",
    "\n",
    "end;"
   ]
  },
  {
   "cell_type": "code",
   "execution_count": 5,
   "metadata": {},
   "outputs": [
    {
     "data": {
      "image/png": "[encoded data removed]",
      "text/plain": [
       "Figure(PyObject <Figure size 640x480 with 1 Axes>)"
      ]
     },
     "metadata": {},
     "output_type": "display_data"
    }
   ],
   "source": [
    "plot_trace(tr)\n",
    "ylim(0,0.5)\n",
    "show()"
   ]
  },
  {
   "cell_type": "markdown",
   "metadata": {},
   "source": [
    "## Gaussian mixture models are difficult\n",
    "\n",
    "The Gaussian mixture model poses some challenges for Bayesian inference.\n",
    "* Identifiability issues:\n",
    "    - Cluster labeling is arbitrary. That is: when we sample cluster locations multiple times, there is ambiguity regarding which location belongs to which hidden gaussian.\n",
    "    - If two hidden gaussians are located very near each other -- i.e., the distance between their means is much smaller than either of their standard deviations -- then they will be practically indistinguishable. (This seems more like a mathematical curiosity than a practical modeling issue; if our inference method consistently yields co-located clusters, then we're probably assuming too many clusters.)\n",
    "    - Michael Betancourt (one of the brains behind Stan) wrote a nice post about these issues: https://mc-stan.org/users/documentation/case-studies/identifying_mixture_models.html. I recommend reading it if you get a chance. His solution, in essence, consists of using very strong priors. We will use a different strategy -- one that highlights the power of Gen's \"programmable inference\" design philosophy.\n",
    "* Sampling challenges:\n",
    "    - If we use something very naive -- like importance sampling -- to infer posteriors on the locations, then we will have very inefficient inference. The probability of $k$ randomly sampled locations each landing near a hidden gaussian is very small. \n",
    "    - If we do something smarter, like Metropolis-Hastings, then we have another set of issues to deal with -- multimodality. Think of it this way: if we have $k$ cluster locations going on a random walk, then there is little probability that each of the hidden gaussians will end up with exactly one of them. It's more probable that some gaussians will end up with more than one of our randomly-walking locations, and that other hidden gaussians will end up with none. But these non-optimal arrangements are still local maxima in probability, so it will be difficult to escape those arrangements and find the correct one.  \n",
    "\n",
    "\n",
    "## Solution: Heuristic-guided sampling\n",
    "\n",
    "There are strategies to solve these problems:\n",
    "* We can keep the sampled locations in sorted order. Since the hidden gaussians must themselves be ordered, this establishes an unambiguous assignment of sampled locations to hidden gaussians.\n",
    "    - Note: this idea of \"sorting\" relies on the fact that we have 1-dimensional data. However, we can extend this strategy to higher dimensions by using a *linear assignment* to map new samples to old samples, maintaining a consistent assignment from the samples to regions of space.\n",
    "* We can ameliorate the multimodality of MCMC by using a heuristic to *guide* our sampling toward regions of high probability. For example, we can use K-means clustering to initialize *and periodically reset* our markov chain.\n",
    "    - Note: K-means may also fall prey to multi-modality. However, it is a relatively inexpensive heuristic that allows us to efficiently visit the different modes (even if they're far away from each other).\n",
    "    - Note: if you're wondering why it's okay to use a heuristic like K-means during MCMC, see this excellent preprint: https://arxiv.org/abs/1801.03612 \n",
    "* Putting this all together: our inference strategy will consist of\n",
    "    1. Metropolis-Hastings over cluster locations;\n",
    "    2. Gibbs sampling over cluster assignments;\n",
    "    3. Occasional importance resampling, guided by K-means, in order to reset the markov chain (typically at a different mode).\n",
    "    \n",
    "This should yield fairly efficient sampling, and at the same time avoid getting trapped in any modes.\n",
    "\n",
    "So our inference task requires a highly specialized sampling strategy. \n",
    "Most PPLs would have difficulty managing this.\n",
    "In contrast, `Gen`'s \"programmable inference\" philosophy handles it perfectly."
   ]
  },
  {
   "cell_type": "markdown",
   "metadata": {},
   "source": [
    "### A simple K-means implementation"
   ]
  },
  {
   "cell_type": "code",
   "execution_count": 6,
   "metadata": {},
   "outputs": [
    {
     "data": {
      "text/plain": [
       "kmeans (generic function with 2 methods)"
      ]
     },
     "execution_count": 6,
     "metadata": {},
     "output_type": "execute_result"
    }
   ],
   "source": [
    "using Statistics\n",
    "\n",
    "function mean_update(data, cluster_assignments, k)\n",
    "    return [mean(data[cluster_assignments .== i]) for i=1:k]\n",
    "end\n",
    "\n",
    "function cluster_update(data, means)\n",
    "    \n",
    "    dists = map(abs, data .- transpose(means))\n",
    "    min_inds = argmin(dists, dims=2)\n",
    "    \n",
    "    return [min_inds[i][2] for i=1:length(min_inds)]\n",
    "end\n",
    "\n",
    "\n",
    "function kmeans(data::Array{Float64,1}, k::Int64, max_iter::Int64=1000)\n",
    "    \n",
    "    # random initialization\n",
    "    cluster_assignments = zeros(size(data)[1])\n",
    "    means = rand(data, k)\n",
    "    \n",
    "    i = 1\n",
    "    while i <= max_iter\n",
    "        \n",
    "        cluster_assignments = cluster_update(data, means)\n",
    "        new_means = mean_update(data, cluster_assignments, k)\n",
    "        \n",
    "        if new_means == means\n",
    "            break\n",
    "        end\n",
    "        \n",
    "        means = new_means\n",
    "        i += 1\n",
    "        \n",
    "    end\n",
    "    \n",
    "    # Sort the means in order to ameliorate\n",
    "    # identifiability issues.\n",
    "    srt_inds = sortperm(means)\n",
    "    inv_map = zeros(size(srt_inds))\n",
    "    for (i, ind) in enumerate(srt_inds)\n",
    "        inv_map[ind] = i\n",
    "    end\n",
    "    ca = map(x->inv_map[x], cluster_assignments)\n",
    "    \n",
    "    return means[srt_inds], ca\n",
    "end"
   ]
  },
  {
   "cell_type": "markdown",
   "metadata": {},
   "source": [
    "### Proposal distributions (and other functions for updating the trace)\n",
    "\n",
    "Our inference procedure will rely on these functions to generate samples."
   ]
  },
  {
   "cell_type": "code",
   "execution_count": 7,
   "metadata": {},
   "outputs": [
    {
     "data": {
      "text/plain": [
       "mcmc_sample (generic function with 1 method)"
      ]
     },
     "execution_count": 7,
     "metadata": {},
     "output_type": "execute_result"
    }
   ],
   "source": [
    "# This proposal uses k-means to propose new cluster locations\n",
    "# and cluster assignments. \n",
    "# It will be used to occasionally \"reset\" the markov chain.\n",
    "@gen function resampling_proposal(n_clusters, dataset, noise)\n",
    "    \n",
    "    means, assignments = kmeans(dataset, n_clusters)\n",
    "    spreads = zeros(n_clusters)\n",
    "    for i=1:n_clusters\n",
    "        means[i] = @trace(normal(means[i], noise), :means => i)\n",
    "        spreads[i] = @trace(gamma(2.0,1.0), :spreads => i)\n",
    "    end\n",
    "    \n",
    "    for j=1:length(dataset)\n",
    "        unnorm_probs = [ abs(exp(-0.5* (dataset[j] - means[i])^2 / (spreads[i]^2) ) / spreads[i]) for i=1:n_clusters]\n",
    "        @trace(categorical(unnorm_probs ./ sum(unnorm_probs)), :cluster => j)\n",
    "    end\n",
    "    \n",
    "end\n",
    "\n",
    "\n",
    "# A proposal distribution for the cluster locations\n",
    "@gen function mh_mean_proposal(tr, n_clusters)\n",
    "    for i=1:n_clusters\n",
    "        @trace(normal(tr[:means => i], 0.1), :means => i)\n",
    "    end\n",
    "end\n",
    "\n",
    "\n",
    "# We simply resample the clusters' standard deviations\n",
    "@gen function mh_spread_proposal(tr, n_clusters)\n",
    "    for i=1:n_clusters\n",
    "        @trace(gamma(1.0, 1.0), :spreads => i)\n",
    "    end\n",
    "end\n",
    "\n",
    "# A quick Gibbs update for the cluster assignments.\n",
    "# This is a \"true\" Gibbs update -- no Metropolis-Hastings involved.\n",
    "# We know the exact distributions of the cluster assignments \n",
    "# when all other variables are held fixed.\n",
    "function cluster_assignment_gibbs_update(tr, n_clusters, n_data)\n",
    "    \n",
    "    # The cluster assignments only ever interact with the \n",
    "    # cluster centers in sorted order.\n",
    "    centers = [tr[:means => i] for i=1:n_clusters]\n",
    "    srt_inds = sortperm(centers)\n",
    "    centers = centers[srt_inds]\n",
    "    spreads = [tr[:spreads => i] for i=1:n_clusters][srt_inds]\n",
    "    \n",
    "    new_assignments = Gen.choicemap()\n",
    "    \n",
    "    for j=1:n_data\n",
    "        unnorm_probs = [ exp(-0.5* (tr[:z => j] - centers[i])^2 / (spreads[i]^2)) / spreads[i] for i=1:n_clusters]\n",
    "        new_assignments[:cluster => j] = categorical(unnorm_probs ./ sum(unnorm_probs))\n",
    "    end\n",
    "    \n",
    "    new_tr, _, _, _ = Gen.update(tr, (n_clusters, n_data), (), new_assignments)\n",
    "    return new_tr\n",
    "    \n",
    "end\n",
    "\n",
    "\n",
    "# This represents one step of the MCMC sampler.\n",
    "# Think of this as the \"default\" sampling strategy, \n",
    "# which occasionally gets reset by the k-means-guided\n",
    "# importance resampling.\n",
    "function mcmc_sample(tr, n_clusters, n_data)\n",
    "    \n",
    "    tr, _ = Gen.mh(tr, mh_mean_proposal, (n_clusters,))\n",
    "    tr, _ = Gen.mh(tr, mh_spread_proposal, (n_clusters,))\n",
    "    tr = cluster_assignment_gibbs_update(tr, n_clusters, n_data)\n",
    "    \n",
    "    return tr\n",
    "end"
   ]
  },
  {
   "cell_type": "markdown",
   "metadata": {},
   "source": [
    "## Our inference program\n",
    "\n",
    "Consists of the following parts:\n",
    "* Generate a trace; condition it on observations; and use K-means to initialize it near a promising configuration.\n",
    "* For each sample:\n",
    "    - with some small probability, reset the trace with K-means.\n",
    "    - Perform some \"thinning\" steps;\n",
    "    - store the posterior quantities of interest."
   ]
  },
  {
   "cell_type": "code",
   "execution_count": 8,
   "metadata": {},
   "outputs": [
    {
     "data": {
      "text/plain": [
       "guided_mcmc_inference (generic function with 3 methods)"
      ]
     },
     "execution_count": 8,
     "metadata": {},
     "output_type": "execute_result"
    }
   ],
   "source": [
    "function guided_mcmc_inference(dataset, n_clusters, n_samples, mcmc_thinning=10, p_reset=0.1)\n",
    "    \n",
    "    # These will store quantities of interest\n",
    "    means = zeros(n_samples, n_clusters)\n",
    "    spreads = zeros(n_samples, n_clusters)\n",
    "    n_data = size(dataset)[1]\n",
    "    assignments = zeros(n_data, n_clusters)\n",
    "    \n",
    "    # Load the observations into the model\n",
    "    observations = Gen.choicemap()\n",
    "    for j=1:n_data\n",
    "        observations[:z => j] = dataset[j]\n",
    "    end\n",
    "    \n",
    "    # Generate an initial trace; immediately use the \n",
    "    # k-means heuristic to get it situated nicely.\n",
    "    tr, _ = Gen.generate(gauss_mix, (n_clusters, n_data), observations)\n",
    "    tr, _ = Gen.importance_resampling(gauss_mix, (n_clusters, n_data), observations,\n",
    "                                      resampling_proposal, (n_clusters, dataset, 0.25), 3)\n",
    "    \n",
    "    \n",
    "    # Now enter the main sampling loop.\n",
    "    for s=1:n_samples\n",
    "        \n",
    "        # possibly perform a reset.\n",
    "        reset = Gen.bernoulli(p_reset)\n",
    "        if reset\n",
    "            tr, _ = Gen.importance_resampling(gauss_mix, (n_clusters, n_data), observations,\n",
    "                                              resampling_proposal, (n_clusters, dataset, 0.25), 3)\n",
    "        end\n",
    "        \n",
    "        # Let the random walk run for  a little bit\n",
    "        for t=1:mcmc_thinning\n",
    "            tr = mcmc_sample(tr, n_clusters, n_data)\n",
    "        end\n",
    "        \n",
    "        # Get the quantities of interest from the trace\n",
    "        for i=1:n_clusters\n",
    "            means[s,i] = tr[:means => i]\n",
    "            spreads[s,i] = tr[:spreads => i]\n",
    "        end\n",
    "        for j=1:n_data\n",
    "            assignments[j,tr[:cluster => j]] += 1\n",
    "        end\n",
    "    end\n",
    "        \n",
    "    return means, spreads, assignments\n",
    "end"
   ]
  },
  {
   "cell_type": "code",
   "execution_count": 9,
   "metadata": {},
   "outputs": [],
   "source": [
    "means, spreads, assignments = guided_mcmc_inference(dataset, n_clusters, 1000, 10, 0.05);"
   ]
  },
  {
   "cell_type": "markdown",
   "metadata": {},
   "source": [
    "## Visualize the results\n",
    "\n",
    "For now, we'll just plot histograms of the sampled cluster locations.\n",
    "\n",
    "Have we recovered the means of the hidden gaussians?"
   ]
  },
  {
   "cell_type": "code",
   "execution_count": 10,
   "metadata": {},
   "outputs": [
    {
     "data": {
      "text/plain": [
       "plot_location_posteriors (generic function with 1 method)"
      ]
     },
     "execution_count": 10,
     "metadata": {},
     "output_type": "execute_result"
    }
   ],
   "source": [
    "function plot_location_posteriors(means)\n",
    "    hist(means, Int(round(sqrt(size(means)[1]))), histtype=\"barstacked\", normed=true)\n",
    "end"
   ]
  },
  {
   "cell_type": "code",
   "execution_count": 11,
   "metadata": {},
   "outputs": [
    {
     "data": {
      "image/png": "[encoded data removed]",
      "text/plain": [
       "Figure(PyObject <Figure size 640x480 with 1 Axes>)"
      ]
     },
     "metadata": {},
     "output_type": "display_data"
    }
   ],
   "source": [
    "plot_location_posteriors(means)\n",
    "show()"
   ]
  },
  {
   "cell_type": "markdown",
   "metadata": {},
   "source": [
    "Excellent! These posteriors correspond very nicely to the means of the hidden gaussians.\n",
    "\n",
    "We'll re-plot the simulated dataset, for illustration:"
   ]
  },
  {
   "cell_type": "code",
   "execution_count": 13,
   "metadata": {},
   "outputs": [
    {
     "data": {
      "image/png": "[encoded data removed]",
      "text/plain": [
       "Figure(PyObject <Figure size 640x480 with 1 Axes>)"
      ]
     },
     "metadata": {},
     "output_type": "display_data"
    }
   ],
   "source": [
    "plot_trace(tr)\n",
    "ylim(0,0.5)\n",
    "show()"
   ]
  },
  {
   "cell_type": "markdown",
   "metadata": {},
   "source": [
    "The colors don't matter -- what's important is that each posterior has a mode very near the hidden gaussian means."
   ]
  },
  {
   "cell_type": "code",
   "execution_count": null,
   "metadata": {},
   "outputs": [],
   "source": []
  }
 ],
 "metadata": {
  "kernelspec": {
   "display_name": "Julia 1.2.0",
   "language": "julia",
   "name": "julia-1.2"
  },
  "language_info": {
   "file_extension": ".jl",
   "mimetype": "application/julia",
   "name": "julia",
   "version": "1.2.0"
  }
 },
 "nbformat": 4,
 "nbformat_minor": 2
}
