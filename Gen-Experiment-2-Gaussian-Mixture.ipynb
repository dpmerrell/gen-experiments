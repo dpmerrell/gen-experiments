{
 "cells": [
  {
   "cell_type": "markdown",
   "metadata": {},
   "source": [
    "# `Gen` Experiments\n",
    "# II. Gaussian Mixture Model\n",
    "\n",
    "(c) David Merrell"
   ]
  },
  {
   "cell_type": "code",
   "execution_count": 1,
   "metadata": {},
   "outputs": [],
   "source": [
    "using Gen\n",
    "using PyPlot"
   ]
  },
  {
   "cell_type": "markdown",
   "metadata": {},
   "source": [
    "## Model\n",
    "\n",
    "In this notebook we'll build a Gaussian mixture model, condition it on some (simulated) data, and infer the posterior distribution of the cluster centers.\n",
    "\n",
    "We'll assume the number of components (clusters) is known.\n",
    "Note: If we didn't know the number of clusters, then we could use some other model -- e.g., Dirichlet Process clustering. I have another notebook for that.\n",
    "\n",
    "For simplicity's sake, we'll assume the clusters all have equal probability.\n",
    "(Otherwise we would use a Dirichlet prior to model the differing cluster probabilities)."
   ]
  },
  {
   "cell_type": "code",
   "execution_count": 2,
   "metadata": {},
   "outputs": [],
   "source": [
    "@gen function gauss_mix(n_clusters::Int64, n_samples::Int64)\n",
    "    \n",
    "    cluster_means = [@trace(normal(0.0, 10.0), :means => i) for i=1:n_clusters]\n",
    "    cluster_spreads = [@trace(gamma(1.0, 1.0), :spreads => i) for i=1:n_clusters]\n",
    "    cluster_probs = fill(1.0/n_clusters, n_clusters)\n",
    "    \n",
    "    z = zeros(n_samples, 1)\n",
    "    \n",
    "    for j=1:n_samples\n",
    "        c = @trace(categorical(cluster_probs), :cluster => j)\n",
    "        z[j] = @trace(normal(cluster_means[c], cluster_spreads[c]), :z => j)\n",
    "    end\n",
    "    \n",
    "    return z\n",
    "\n",
    "end;"
   ]
  },
  {
   "cell_type": "markdown",
   "metadata": {},
   "source": [
    "## Sanity check: simulate & visualize"
   ]
  },
  {
   "cell_type": "code",
   "execution_count": 27,
   "metadata": {},
   "outputs": [],
   "source": [
    "n_samples = 1000\n",
    "n_clusters = 4\n",
    "    \n",
    "tr = simulate(gauss_mix, (n_clusters, n_samples));"
   ]
  },
  {
   "cell_type": "code",
   "execution_count": 28,
   "metadata": {},
   "outputs": [],
   "source": [
    "function plot_choices(zs, means, assignments)\n",
    "    \n",
    "    z_vecs = [zs[assignments .== i] for i=1:length(unique(assignments))]\n",
    "    hist(z_vecs, Int(round(sqrt(n_samples))), histtype=\"barstacked\", normed=true)\n",
    "\n",
    "    for (i, mean) in enumerate(means)\n",
    "        plot([mean; mean], [0; n_samples], color=\"k\")\n",
    "    end\n",
    "    \n",
    "end;\n",
    "\n",
    "\n",
    "function plot_trace(tr)\n",
    "    \n",
    "    zs = [tr[:z => j] for j=1:n_samples];\n",
    "    means = [tr[:means => i] for i=1:n_clusters];\n",
    "    assignments = [tr[:cluster => j] for j=1:n_samples]\n",
    "    \n",
    "    plot_choices(zs, means, assignments)\n",
    "\n",
    "end;"
   ]
  },
  {
   "cell_type": "code",
   "execution_count": 29,
   "metadata": {},
   "outputs": [
    {
     "data": {
      "image/png": "[encoded data removed]",
      "text/plain": [
       "Figure(PyObject <matplotlib.figure.Figure object at 0x7f73162357b8>)"
      ]
     },
     "metadata": {},
     "output_type": "display_data"
    }
   ],
   "source": [
    "plot_trace(tr)\n",
    "ylim(0,0.5)\n",
    "show()"
   ]
  },
  {
   "cell_type": "markdown",
   "metadata": {},
   "source": [
    "## Gaussian mixture models are difficult\n",
    "\n",
    "The Gaussian mixture model poses some challenges for Bayesian inference.\n",
    "* Identifiability issues:\n",
    "    - Cluster labeling is arbitrary. That is: when we sample cluster locations multiple times, there is ambiguity regarding which location belongs to which hidden gaussian.\n",
    "    - If two hidden gaussians are located very near each other -- i.e., the distance between their means is much smaller than either of their standard deviations -- then they will be practically indistinguishable. (This seems more like a mathematical curiosity than a practical modeling issue; if our inference method consistently yields co-located clusters, then we're probably assuming too many clusters.)\n",
    "    - Michael Betancourt (one of the brains behind Stan) wrote a nice post about these issues: https://mc-stan.org/users/documentation/case-studies/identifying_mixture_models.html. I recommend reading it if you get a chance. His solution, in essence, consists of using very strong priors. We will use a different strategy -- one that highlights the power of Gen's \"programmable inference\" design philosophy.\n",
    "* Sampling challenges:\n",
    "    - If we use something very naive -- like importance sampling -- to infer posteriors on the locations, then we will have very inefficient inference. The probability of $k$ randomly sampled locations each landing near a hidden gaussian is very small. \n",
    "    - If we do something smarter, like Metropolis-Hastings, then we have another set of issues to deal with -- multimodality. Think of it this way: if we have $k$ cluster locations going on a random walk, then there is little probability that each of the hidden gaussians will end up with exactly one of them. It's more probable that some gaussians will end up with more than one of our randomly-walking locations, and that other hidden gaussians will end up with none. But these non-optimal arrangements are still local maxima in probability, so it will be difficult to escape those arrangements and find the correct one.  \n",
    "\n",
    "\n",
    "## Solution: Heuristic-guided sampling\n",
    "\n",
    "There are strategies to solve these problems:\n",
    "* We can keep the sampled locations in sorted order. Since the hidden gaussians must themselves be ordered, this establishes an unambiguous assignment of sampled locations to hidden gaussians.\n",
    "    - Note: this idea of \"sorting\" relies on the fact that we have 1-dimensional data. However, we can extend this strategy to higher dimensions by using a *linear assignment* to map new samples to old samples, maintaining a consistent assignment from the samples to regions of space.\n",
    "* We can ameliorate the multimodality of MCMC by using a heuristic to *guide* our sampling toward regions of high probability. For example, we can use K-means clustering to initialize *and periodically reset* our markov chain.\n",
    "    - Note: K-means may also fall prey to multi-modality. However, it is a relatively inexpensive heuristic that allows us to efficiently visit the different modes (even if they're far away from each other).\n",
    "    - Note: if you're wondering why it's okay to use a heuristic like K-means during MCMC, see this excellent preprint: https://arxiv.org/abs/1801.03612 \n",
    "\n",
    "So our inference task requires a highly specialized sampling strategy. \n",
    "Most PPLs would have difficulty managing this.\n",
    "In contrast, `Gen`'s \"programmable inference\" philosophy handles it perfectly."
   ]
  },
  {
   "cell_type": "markdown",
   "metadata": {},
   "source": [
    "### K-means implementation"
   ]
  },
  {
   "cell_type": "code",
   "execution_count": null,
   "metadata": {},
   "outputs": [],
   "source": [
    "using Statistics\n",
    "\n",
    "function mean_update(data, cluster_assignments, k)\n",
    "    return [mean(data[cluster_assignments .== i]) for i=1:k]\n",
    "end\n",
    "\n",
    "function cluster_update(data, means)\n",
    "    \n",
    "    dists = map(abs, data .- transpose(means))\n",
    "    min_inds = argmin(dists, dims=2)\n",
    "    \n",
    "    return [min_inds[i][2] for i=1:length(min_inds)]\n",
    "end\n",
    "\n",
    "\n",
    "function kmeans(data::Array{Float64,1}, k::Int64, max_iter::Int64=1000)\n",
    "    \n",
    "    # random initialization\n",
    "    cluster_assignments = zeros(size(data)[1])\n",
    "    means = rand(data, k)\n",
    "    \n",
    "    i = 1\n",
    "    while i <= max_iter\n",
    "        \n",
    "        cluster_assignments = cluster_update(data, means)\n",
    "        new_means = mean_update(data, cluster_assignments, k)\n",
    "        \n",
    "        if new_means == means\n",
    "            break\n",
    "        end\n",
    "        \n",
    "        means = new_means\n",
    "        i += 1\n",
    "        \n",
    "    end\n",
    "    \n",
    "    # Sort the means in order to ameliorate\n",
    "    # identifiability issues.\n",
    "    srt_inds = sortperm(means)\n",
    "    inv_map = zeros(size(srt_inds))\n",
    "    for (i, ind) in enumerate(srt_inds)importance sampling\n",
    "        inv_map[ind] = i\n",
    "    end\n",
    "    ca = map(x->inv_map[x], cluster_assignments)\n",
    "    \n",
    "    return means[srt_inds], ca\n",
    "end"
   ]
  },
  {
   "cell_type": "markdown",
   "metadata": {},
   "source": [
    "### Proposal distributions (and other functions for updating the trace)\n",
    "\n",
    "Our inference procedure will use these functions to help generate samples."
   ]
  },
  {
   "cell_type": "code",
   "execution_count": null,
   "metadata": {},
   "outputs": [],
   "source": [
    "# This proposal uses k-means to reset the \n",
    "# cluster locations.\n",
    "@gen function kmean_proposal(tr, n_clusters, dataset, noise)\n",
    "    \n",
    "    means, assignments = kmeans(dataset, n_clusters)\n",
    "    for i=1:n_clusters\n",
    "        @trace(normal(means[i], noise), :means => i)\n",
    "    end\n",
    "    \n",
    "    \n",
    "end\n",
    "\n",
    "function initialize_trace_kmeans(dataset, n_clusters)\n",
    "    \n",
    "    init_settings = Gen.choicemap()\n",
    "    means, assignments = kmeans(dataset, n_clusters, max_iters)\n",
    "    for i=1:n_clusters\n",
    "        init_settings[:means => i] = means[i]\n",
    "    end\n",
    "    for j=1:length(dataset)\n",
    "        init_settings[:cluster => j] = assignments[j]\n",
    "        init_settings[:z => j] = dataset[j]\n",
    "    end\n",
    "       \n",
    "    tr, _ = Gen.generate(gauss_mix, (n_clusters, length(dataset)), init_settings)\n",
    "    \n",
    "    return tr\n",
    "end\n",
    "\n",
    "# A proposal distribution for the cluster locations\n",
    "@gen function cluster_mean_proposal(tr, n_clusters)\n",
    "    for i=1:n_clusters\n",
    "        @trace(normal(tr[:means => i], 0.25), :means => i)\n",
    "    end\n",
    "end\n",
    "\n",
    "\n",
    "# We simply resample the clusters' standard deviations\n",
    "@gen function cluster_spread_proposal(tr, n_clusters)\n",
    "    for i=1:n_clusters\n",
    "        @trace(gamma(1.0, 1.0), :spreads => i)\n",
    "    end\n",
    "end\n",
    "\n",
    "# We update the cluster assignment of each data-point in a \n",
    "# Gibbs sampling fashion.\n",
    "function cluster_assignment_gibbs_update(tr, n_clusters, n_data)\n",
    "    \n",
    "    # The cluster assignments only ever interact with the \n",
    "    # cluster centers in sorted order.\n",
    "    centers = [tr[:means => i] for i=1:n_clusters]\n",
    "    srt_inds = sortperm(centers)\n",
    "    centers = centers[srt_inds]\n",
    "    spreads = [tr[:spreads => i] for i=1:n_clusters][srt_inds]\n",
    "    \n",
    "    new_assignments = Gen.choicemap()\n",
    "    \n",
    "    for j=1:n_data\n",
    "        unnorm_probs = [ exp(-0.5* (tr[:z => j] - centers[i])^2 / (spreads[i]^2)) / spreads[i] for i=1:n_clusters]\n",
    "        new_assignments[:cluster => j] = categorical(unnorm_probs ./ sum(unnorm_probs))\n",
    "    end\n",
    "    \n",
    "    new_tr, _, _, _ = Gen.update(tr, (n_clusters, n_data), (), new_assignments)\n",
    "    return new_tr\n",
    "    \n",
    "end"
   ]
  },
  {
   "cell_type": "markdown",
   "metadata": {},
   "source": [
    "### A single step of the MCMC sampler:"
   ]
  },
  {
   "cell_type": "code",
   "execution_count": null,
   "metadata": {},
   "outputs": [],
   "source": [
    "function mcmc_sample(tr, n_clusters, n_data)\n",
    "    \n",
    "    tr, _ = Gen.mh(tr, cluster_mean_proposal, (n_clusters,))\n",
    "    tr, _ = Gen.mh(tr, cluster_spread_proposal, (n_clusters,))\n",
    "    tr = cluster_assignment_gibbs_update(tr, n_clusters, n_data)\n",
    "    \n",
    "    return tr\n",
    "end"
   ]
  },
  {
   "cell_type": "code",
   "execution_count": null,
   "metadata": {},
   "outputs": [],
   "source": [
    "function smarter_mcmc_inference(tr, n_samples, n_clusters, n_data, burnin=10, thinning=10)\n",
    "    \n",
    "    means = zeros(n_samples, n_clusters)\n",
    "    spreads = zeros(n_samples, n_clusters)\n",
    "    assignments = zeros(n_data, n_clusters)\n",
    "    \n",
    "    for b=1:burnin\n",
    "        tr = smarter_mcmc_sample(tr, n_clusters, n_data)\n",
    "    end\n",
    "    println(\"finished burnin; now sampling...\")\n",
    "    for s=1:n_samples\n",
    "        for t=1:thinning\n",
    "            tr = smarter_mcmc_sample(tr, n_clusters, n_data)\n",
    "        end\n",
    "        \n",
    "        for i=1:n_clusters\n",
    "            means[s,i] = tr[:means => i]\n",
    "            spreads[s,i] = tr[:spreads => i]\n",
    "        end\n",
    "        for j=1:n_data\n",
    "            assignments[j,tr[:cluster => j]] += 1\n",
    "        end\n",
    "    end\n",
    "    \n",
    "    println(\"postprocessing...\")\n",
    "    for s=1:n_samples\n",
    "        srt_inds = sortperm(means[s,:])\n",
    "        means[s,:] = means[s,srt_inds]\n",
    "        spreads[s,:] = spreads[s,srt_inds]\n",
    "    end\n",
    "        \n",
    "    return means, spreads, assignments\n",
    "end"
   ]
  },
  {
   "cell_type": "code",
   "execution_count": null,
   "metadata": {},
   "outputs": [],
   "source": []
  },
  {
   "cell_type": "code",
   "execution_count": null,
   "metadata": {},
   "outputs": [],
   "source": [
    "tr = initialize_trace_kmeans(zs, 4)\n",
    "plot_trace(tr)\n",
    "ylim(0,30)\n",
    "show()"
   ]
  },
  {
   "cell_type": "code",
   "execution_count": null,
   "metadata": {},
   "outputs": [],
   "source": [
    "means, spreads, assignments = smarter_mcmc_inference(tr, 1000, 4, length(zs), 100, 10)"
   ]
  },
  {
   "cell_type": "code",
   "execution_count": null,
   "metadata": {},
   "outputs": [],
   "source": [
    "hist(means[:,4])\n",
    "show()"
   ]
  },
  {
   "cell_type": "markdown",
   "metadata": {},
   "source": [
    "## Inference: k-means-guided MCMC\n",
    "\n"
   ]
  }
 ],
 "metadata": {
  "kernelspec": {
   "display_name": "Julia 1.2.0",
   "language": "julia",
   "name": "julia-1.2"
  },
  "language_info": {
   "file_extension": ".jl",
   "mimetype": "application/julia",
   "name": "julia",
   "version": "1.2.0"
  }
 },
 "nbformat": 4,
 "nbformat_minor": 2
}
